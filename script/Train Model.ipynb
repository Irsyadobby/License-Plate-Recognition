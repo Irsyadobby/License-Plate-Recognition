{
 "cells": [
  {
   "cell_type": "markdown",
   "metadata": {},
   "source": [
    "# Import Packages"
   ]
  },
  {
   "cell_type": "code",
   "execution_count": 2,
   "metadata": {},
   "outputs": [],
   "source": [
    "# YOLO Model\n",
    "from ultralytics import YOLO\n",
    "\n",
    "# Utils\n",
    "import glob\n",
    "import pandas as pd\n",
    "import numpy as np"
   ]
  },
  {
   "cell_type": "markdown",
   "metadata": {},
   "source": [
    "# Train Model"
   ]
  },
  {
   "cell_type": "code",
   "execution_count": null,
   "metadata": {},
   "outputs": [],
   "source": [
    "# Train YOLO Model\n",
    "model = YOLO(r\"C:\\Users\\Irsyadobby\\Documents\\BDC 2023\\Model\\yolov5mu.pt\")\n",
    "\n",
    "result = model.train(data = r\"C:\\Users\\Irsyadobby\\Documents\\BDC 2023\\V5 BDC.yaml\", imgsz = 640, epochs = 100, lr0 = 0.001, dropout = 0.1, optimizer = \"AdamW\")\n",
    "\n",
    "\n",
    "# Predict Test Dataset\n",
    "model.predict(source = r\"C:\\Users\\Irsyadobby\\Documents\\BDC 2023\\Penyisihan\\Data Test for BDC 2023 - Penyisihan\\Data Test for BDC 2023 - Penyisihan\", save = True, save_txt = True)"
   ]
  },
  {
   "cell_type": "markdown",
   "metadata": {},
   "source": [
    "# Post-Processing"
   ]
  },
  {
   "cell_type": "code",
   "execution_count": 5,
   "metadata": {},
   "outputs": [],
   "source": [
    "def data_label(data) :\n",
    "    for row in range(0, len(data)) :\n",
    "        if 0 <= data.iloc[row,0] <= 25:\n",
    "            data.loc[row, 'label'] = chr(data.iloc[row ,0] + 65)\n",
    "        elif 26 <= data.iloc[row,0] <= 35:\n",
    "            data.loc[row, 'label'] = str(data.iloc[row,0] - 26)"
   ]
  },
  {
   "cell_type": "code",
   "execution_count": null,
   "metadata": {},
   "outputs": [],
   "source": [
    "path = glob.glob('/content/runs/detect/predict/labels/*.txt')\n",
    "path = [s.replace('\\\\','/') for s in path]\n",
    "path = sorted(path, key = lambda x: int(x.split(\"/\")[-1].split(\"DataVal\")[1].split(\".txt\")[0]))\n",
    "\n",
    "df = pd.DataFrame(columns = ['Name of File','License Plate'])\n",
    "\n",
    "for file in path :\n",
    "    colnames = ['class','xcenter','ycenter','width','height']\n",
    "    data = pd.read_csv(file, names = colnames, delimiter = ' ')\n",
    "    data.sort_values('xcenter', ascending = True, inplace = True)\n",
    "    data.reset_index(inplace = True)\n",
    "    data.drop(['index'], axis = 1, inplace = True)\n",
    "\n",
    "    # Buat Kolom Label\n",
    "    data_label(data)\n",
    "\n",
    "    # Hasil predict\n",
    "    hasil = list(data['label'])\n",
    "    hasil = ''.join(hasil)\n",
    "\n",
    "    start_pos = file.rfind(\"/\") + 1\n",
    "    end_pos = file.rfind(\".\")\n",
    "\n",
    "    nama = file[start_pos:end_pos]\n",
    "    nama = nama + \".png\"\n",
    "\n",
    "    # Masukin DataFrame\n",
    "    df = df.append({'Name of File' : nama, 'License Plate' : hasil}, ignore_index = True)"
   ]
  },
  {
   "cell_type": "code",
   "execution_count": null,
   "metadata": {},
   "outputs": [],
   "source": [
    "folder_path = \"/content/gdrive/MyDrive/BDC 2023/Data Test\"  # Ubah dengan path ke folder yang berisi file-file tersebut\n",
    "file_names = os.listdir(folder_path)\n",
    "\n",
    "data = pd.DataFrame(columns=['File', 'Prediksi'])\n",
    "def filter_tab1(tab1):\n",
    "    # Sort the DataFrame by 'xmin' in ascending order and 'confidence' in descending order\n",
    "    tab1 = tab1.sort_values(by=['xmin', 'conf'], ascending=[True, False])\n",
    "\n",
    "    # Initialize an empty DataFrame for the filtered rows\n",
    "    filtered_rows = pd.DataFrame(columns=tab1.columns)\n",
    "\n",
    "    # Iterate over the DataFrame and filter the rows\n",
    "    xmin_threshold = 3\n",
    "    prev_xmin = None\n",
    "    max_confidence_row = None\n",
    "\n",
    "    for _, row in tab1.iterrows():\n",
    "        if prev_xmin is None or abs(row['xmin'] - prev_xmin) <= xmin_threshold:\n",
    "            if max_confidence_row is None or row['conf'] > max_confidence_row['conf']:\n",
    "                max_confidence_row = row\n",
    "        else:\n",
    "            if max_confidence_row is not None:\n",
    "                filtered_rows = filtered_rows.append(max_confidence_row)\n",
    "\n",
    "            max_confidence_row = row\n",
    "\n",
    "        prev_xmin = row['xmin']\n",
    "\n",
    "    if max_confidence_row is not None:\n",
    "        filtered_rows = filtered_rows.append(max_confidence_row)\n",
    "\n",
    "    # Reset the index of the filtered DataFrame\n",
    "    filtered_rows = filtered_rows.reset_index(drop=True)\n",
    "\n",
    "    return filtered_rows\n",
    "\n",
    "for file_name in file_names:\n",
    "    file_path = os.path.join(folder_path, file_name)\n",
    "\n",
    "    # Lakukan proses pada setiap file\n",
    "    names = model.names\n",
    "    result = model.predict(source=file_path)\n",
    "    result = result[0].cpu().numpy()\n",
    "\n",
    "    class_names = []\n",
    "    result_boxes = []\n",
    "\n",
    "    for box in result.boxes:\n",
    "        class_names.append(names[int(box.cls)])\n",
    "        result_boxes.append(box.xyxy[0])\n",
    "\n",
    "    pd_box = pd.DataFrame(result_boxes)\n",
    "    pd_box.columns = ['xmin', 'ymin', 'xmax', 'ymax']\n",
    "    pd_box['class'] = class_names\n",
    "    pd_box['conf'] = result.boxes.conf\n",
    "    pd_box = pd_box.sort_values('xmin')\n",
    "    filtered_data = filter_tab1(pd_box)\n",
    "\n",
    "    # Bikin DataFrame Hasil\n",
    "    hasil = filtered_data['class'].str.cat(sep='')\n",
    "    nama = os.path.splitext(file_name)[0] + \".png\"\n",
    "\n",
    "    # Buat final DataFrame\n",
    "    data = data.append({'File': nama, 'Prediksi': hasil}, ignore_index=True)\n",
    "\n",
    "# Tampilkan data frame hasil\n",
    "print(data)"
   ]
  }
 ],
 "metadata": {
  "kernelspec": {
   "display_name": "base",
   "language": "python",
   "name": "python3"
  },
  "language_info": {
   "codemirror_mode": {
    "name": "ipython",
    "version": 3
   },
   "file_extension": ".py",
   "mimetype": "text/x-python",
   "name": "python",
   "nbconvert_exporter": "python",
   "pygments_lexer": "ipython3",
   "version": "3.9.13"
  }
 },
 "nbformat": 4,
 "nbformat_minor": 2
}
